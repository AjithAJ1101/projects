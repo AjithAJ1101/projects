{
 "cells": [
  {
   "cell_type": "code",
   "execution_count": 1,
   "id": "577d3a7f",
   "metadata": {},
   "outputs": [],
   "source": [
    "import pandas as pd\n",
    "import numpy as np\n",
    "import warnings\n",
    "warnings.filterwarnings('ignore')"
   ]
  },
  {
   "cell_type": "code",
   "execution_count": 2,
   "id": "d12f7751",
   "metadata": {},
   "outputs": [],
   "source": [
    "df1=pd.read_csv('Test_Claim.csv')\n",
    "df2=pd.read_csv('Test_Demographics.csv')\n",
    "df3=pd.read_csv('Test_Policy.csv')"
   ]
  },
  {
   "cell_type": "code",
   "execution_count": 3,
   "id": "e3641842",
   "metadata": {},
   "outputs": [
    {
     "data": {
      "text/plain": [
       "(8912, 10)"
      ]
     },
     "execution_count": 3,
     "metadata": {},
     "output_type": "execute_result"
    }
   ],
   "source": [
    "df3.shape"
   ]
  },
  {
   "cell_type": "code",
   "execution_count": 4,
   "id": "23799ab9",
   "metadata": {},
   "outputs": [],
   "source": [
    "df4=pd.read_csv('Test_Vehicle.csv')"
   ]
  },
  {
   "cell_type": "markdown",
   "id": "526de73a",
   "metadata": {},
   "source": [
    "## Filtering VehicleAttribute "
   ]
  },
  {
   "cell_type": "code",
   "execution_count": 5,
   "id": "a09eff77",
   "metadata": {},
   "outputs": [],
   "source": [
    "#Creating an VechileID column\n",
    "v_id=df4.loc[df4.VehicleAttribute=='VehicleID']\n",
    "v_id['VehicleID']=v_id['VehicleAttributeDetails']\n",
    "v_id.drop(['VehicleAttribute','VehicleAttributeDetails'],axis=1,inplace=True)"
   ]
  },
  {
   "cell_type": "code",
   "execution_count": 6,
   "id": "f05dcae3",
   "metadata": {},
   "outputs": [],
   "source": [
    "#creating VehicleModel column\n",
    "vm=df4.loc[df4.VehicleAttribute=='VehicleModel']\n",
    "vm['VehicleModel']=vm['VehicleAttributeDetails']\n",
    "vm.drop(['VehicleAttribute','VehicleAttributeDetails'],axis=1,inplace=True)"
   ]
  },
  {
   "cell_type": "code",
   "execution_count": 7,
   "id": "a5c71e96",
   "metadata": {},
   "outputs": [],
   "source": [
    "#creating VehicleMake column\n",
    "v_make=df4.loc[df4.VehicleAttribute=='VehicleMake']\n",
    "v_make['VehicleMake']=v_make['VehicleAttributeDetails']\n",
    "v_make.drop(['VehicleAttribute','VehicleAttributeDetails'],axis=1,inplace=True)"
   ]
  },
  {
   "cell_type": "code",
   "execution_count": 8,
   "id": "0c849a7b",
   "metadata": {},
   "outputs": [],
   "source": [
    "#creating VehicleYOM column\n",
    "v_yom=df4.loc[df4.VehicleAttribute=='VehicleYOM']\n",
    "v_yom['VehicleYOM']=v_yom['VehicleAttributeDetails']\n",
    "v_yom.drop(['VehicleAttribute','VehicleAttributeDetails'],axis=1,inplace=True)\n",
    "\n",
    "d1=v_id.merge(vm)\n",
    "d2=v_make.merge(v_yom)\n",
    "\n",
    "df5=d1.merge(d2)"
   ]
  },
  {
   "cell_type": "code",
   "execution_count": 9,
   "id": "2cdb8998",
   "metadata": {},
   "outputs": [],
   "source": [
    "m1=df1.merge(df2)\n",
    "m2=df3.merge(df5)\n",
    "\n",
    "df_new=m1.merge(m2)"
   ]
  },
  {
   "cell_type": "code",
   "execution_count": 10,
   "id": "a5c53a6a",
   "metadata": {},
   "outputs": [
    {
     "data": {
      "text/plain": [
       "(8912, 41)"
      ]
     },
     "execution_count": 10,
     "metadata": {},
     "output_type": "execute_result"
    }
   ],
   "source": [
    "df_new.shape"
   ]
  },
  {
   "cell_type": "markdown",
   "id": "ecc001fd",
   "metadata": {},
   "source": [
    "# Replacing NaN "
   ]
  },
  {
   "cell_type": "code",
   "execution_count": 11,
   "id": "170f9449",
   "metadata": {},
   "outputs": [],
   "source": [
    "df_new.replace('?',np.nan,inplace=True)\n",
    "df_new.replace(-1.0,np.nan,inplace=True)\n",
    "df_new.replace(-5.0,np.nan,inplace=True)\n",
    "df_new.replace('MISSINGVAL',np.nan,inplace=True)\n",
    "df_new.replace('MISSINGVALUE',np.nan,inplace=True)\n",
    "df_new.replace('MISSEDDATA',np.nan,inplace=True)\n",
    "df_new.replace('???',np.nan,inplace=True)"
   ]
  },
  {
   "cell_type": "code",
   "execution_count": 12,
   "id": "10c61f98",
   "metadata": {},
   "outputs": [],
   "source": [
    "df_new.to_csv('final_clean.csv',index=False)"
   ]
  },
  {
   "cell_type": "code",
   "execution_count": 13,
   "id": "a805c7d9",
   "metadata": {},
   "outputs": [
    {
     "data": {
      "text/plain": [
       "CustomerID                       0\n",
       "DateOfIncident                   0\n",
       "TypeOfIncident                   0\n",
       "TypeOfCollission              1763\n",
       "SeverityOfIncident               0\n",
       "AuthoritiesContacted             0\n",
       "IncidentState                    0\n",
       "IncidentCity                     0\n",
       "IncidentAddress                  0\n",
       "IncidentTime                     7\n",
       "NumberOfVehicles                 0\n",
       "PropertyDamage                3199\n",
       "BodilyInjuries                   0\n",
       "Witnesses                       12\n",
       "PoliceReport                  3014\n",
       "AmountOfTotalClaim               8\n",
       "AmountOfInjuryClaim              0\n",
       "AmountOfPropertyClaim            0\n",
       "AmountOfVehicleDamage            0\n",
       "InsuredAge                       0\n",
       "InsuredZipCode                   0\n",
       "InsuredGender                    8\n",
       "InsuredEducationLevel            0\n",
       "InsuredOccupation                0\n",
       "InsuredHobbies                   0\n",
       "CapitalGains                     0\n",
       "CapitalLoss                      0\n",
       "Country                          4\n",
       "InsurancePolicyNumber            0\n",
       "CustomerLoyaltyPeriod            0\n",
       "DateOfPolicyCoverage             0\n",
       "InsurancePolicyState             0\n",
       "Policy_CombinedSingleLimit       0\n",
       "Policy_Deductible                0\n",
       "PolicyAnnualPremium             47\n",
       "UmbrellaLimit                    0\n",
       "InsuredRelationship              0\n",
       "VehicleID                        0\n",
       "VehicleModel                     0\n",
       "VehicleMake                      8\n",
       "VehicleYOM                       0\n",
       "dtype: int64"
      ]
     },
     "execution_count": 13,
     "metadata": {},
     "output_type": "execute_result"
    }
   ],
   "source": [
    "df_new.isnull().sum()"
   ]
  },
  {
   "cell_type": "code",
   "execution_count": 14,
   "id": "a12c60b2",
   "metadata": {},
   "outputs": [
    {
     "data": {
      "text/plain": [
       "array(['Front Collision', 'Rear Collision', nan, 'Side Collision'],\n",
       "      dtype=object)"
      ]
     },
     "execution_count": 14,
     "metadata": {},
     "output_type": "execute_result"
    }
   ],
   "source": [
    "df_new['TypeOfCollission'].unique()"
   ]
  },
  {
   "cell_type": "markdown",
   "id": "2b0b0a2b",
   "metadata": {},
   "source": [
    "# Missing value Treatment\n"
   ]
  },
  {
   "cell_type": "markdown",
   "id": "fa9a1891",
   "metadata": {},
   "source": [
    "## i)Missing value treatment for 'PoliceReport' column"
   ]
  },
  {
   "cell_type": "code",
   "execution_count": 15,
   "id": "70b07cdc",
   "metadata": {},
   "outputs": [],
   "source": [
    "# We are going to predict police report column . Train claim dataset having this column.\n",
    "#so we are going to take this dataset and make prediction  for the particular column\n",
    "p1=pd.read_csv('Test_claim.csv')\n",
    "p1.replace('?',np.nan,inplace=True)"
   ]
  },
  {
   "cell_type": "code",
   "execution_count": 16,
   "id": "14ffc6aa",
   "metadata": {},
   "outputs": [
    {
     "data": {
      "text/plain": [
       "Index(['CustomerID', 'DateOfIncident', 'TypeOfIncident', 'TypeOfCollission',\n",
       "       'SeverityOfIncident', 'AuthoritiesContacted', 'IncidentState',\n",
       "       'IncidentCity', 'IncidentAddress', 'PropertyDamage', 'Witnesses',\n",
       "       'PoliceReport', 'AmountOfTotalClaim'],\n",
       "      dtype='object')"
      ]
     },
     "execution_count": 16,
     "metadata": {},
     "output_type": "execute_result"
    }
   ],
   "source": [
    "cat=p1.select_dtypes(include=['object'])\n",
    "cat.columns"
   ]
  },
  {
   "cell_type": "code",
   "execution_count": 17,
   "id": "6dbc8125",
   "metadata": {},
   "outputs": [
    {
     "data": {
      "text/plain": [
       "(5898, 19)"
      ]
     },
     "execution_count": 17,
     "metadata": {},
     "output_type": "execute_result"
    }
   ],
   "source": [
    "#we take values from police report column which having not null values\n",
    "#We take this value for training purpose\n",
    "not_null=p1.loc[p1['PoliceReport'].notnull()]\n",
    "not_null.shape"
   ]
  },
  {
   "cell_type": "code",
   "execution_count": 18,
   "id": "b178ff3e",
   "metadata": {},
   "outputs": [],
   "source": [
    "#copying original file for other process\n",
    "n1=not_null.copy()"
   ]
  },
  {
   "cell_type": "code",
   "execution_count": 19,
   "id": "29341b99",
   "metadata": {},
   "outputs": [],
   "source": [
    "# Converting categorical to numerical \n",
    "cat_col=['DateOfIncident', 'TypeOfIncident', 'TypeOfCollission',\n",
    "       'SeverityOfIncident', 'AuthoritiesContacted', 'IncidentState',\n",
    "       'IncidentCity', 'IncidentAddress', 'PropertyDamage', 'Witnesses',\n",
    "       'PoliceReport', 'AmountOfTotalClaim']\n",
    "from sklearn.preprocessing import LabelEncoder\n",
    "le = LabelEncoder()\n",
    "\n",
    "for col in cat_col:\n",
    "    n1[col]= le.fit_transform(n1[col])"
   ]
  },
  {
   "cell_type": "code",
   "execution_count": 20,
   "id": "0b817ba0",
   "metadata": {},
   "outputs": [],
   "source": [
    "#Droping 'polciereport' column and assign to new valriable\n",
    "not_null=not_null.drop(['PoliceReport'],axis=1)\n",
    "\n",
    "#Assigning the numerical value for 'policereport' column\n",
    "not_null['PoliceReport']=n1['PoliceReport']"
   ]
  },
  {
   "cell_type": "code",
   "execution_count": 21,
   "id": "a74ff6e9",
   "metadata": {},
   "outputs": [],
   "source": [
    "from sklearn.linear_model import LogisticRegression\n",
    "from sklearn.model_selection import train_test_split\n",
    "from sklearn.metrics import accuracy_score"
   ]
  },
  {
   "cell_type": "code",
   "execution_count": 22,
   "id": "6751a64f",
   "metadata": {},
   "outputs": [],
   "source": [
    "x=n1.drop(['PoliceReport','CustomerID'],axis=1)\n",
    "y=n1['PoliceReport']"
   ]
  },
  {
   "cell_type": "code",
   "execution_count": 23,
   "id": "0663b790",
   "metadata": {},
   "outputs": [],
   "source": [
    "X_train,X_test,Y_train,Y_test=train_test_split(x,y,test_size=0.1,random_state=0)"
   ]
  },
  {
   "cell_type": "code",
   "execution_count": 24,
   "id": "65223f7e",
   "metadata": {},
   "outputs": [
    {
     "data": {
      "text/plain": [
       "LogisticRegression()"
      ]
     },
     "execution_count": 24,
     "metadata": {},
     "output_type": "execute_result"
    }
   ],
   "source": [
    "logi=LogisticRegression()\n",
    "logi.fit(X_train,Y_train)"
   ]
  },
  {
   "cell_type": "code",
   "execution_count": 25,
   "id": "660a1590",
   "metadata": {},
   "outputs": [],
   "source": [
    "pred_train=logi.predict(X_train)\n",
    "pred_test=logi.predict(X_test)"
   ]
  },
  {
   "cell_type": "code",
   "execution_count": 26,
   "id": "3604d599",
   "metadata": {},
   "outputs": [
    {
     "name": "stdout",
     "output_type": "stream",
     "text": [
      "0.5276940467219292\n",
      "0.5525423728813559\n"
     ]
    }
   ],
   "source": [
    "print(accuracy_score(Y_train,pred_train))\n",
    "print(accuracy_score(Y_test,pred_test))"
   ]
  },
  {
   "cell_type": "code",
   "execution_count": 27,
   "id": "f616fbaa",
   "metadata": {},
   "outputs": [],
   "source": [
    "from sklearn.tree import DecisionTreeClassifier"
   ]
  },
  {
   "cell_type": "code",
   "execution_count": 28,
   "id": "a5af456e",
   "metadata": {},
   "outputs": [],
   "source": [
    "clf=DecisionTreeClassifier(criterion='gini')\n",
    "clf.fit(X_train,Y_train)\n",
    "pred_train=clf.predict(X_train)\n",
    "pred_test=clf.predict(X_test)"
   ]
  },
  {
   "cell_type": "code",
   "execution_count": 29,
   "id": "a9b7982e",
   "metadata": {},
   "outputs": [
    {
     "name": "stdout",
     "output_type": "stream",
     "text": [
      "1.0\n",
      "0.7050847457627119\n"
     ]
    }
   ],
   "source": [
    "print(accuracy_score(Y_train,pred_train))\n",
    "print(accuracy_score(Y_test,pred_test))"
   ]
  },
  {
   "cell_type": "code",
   "execution_count": 30,
   "id": "56ac79bd",
   "metadata": {},
   "outputs": [],
   "source": [
    "from sklearn.ensemble import RandomForestClassifier"
   ]
  },
  {
   "cell_type": "code",
   "execution_count": 31,
   "id": "b50a4891",
   "metadata": {},
   "outputs": [],
   "source": [
    "classi=RandomForestClassifier(n_estimators=40,criterion='entropy')\n",
    "classi.fit(X_train,Y_train)\n",
    "pred_train=classi.predict(X_train)\n",
    "pred_test=classi.predict(X_test)\n"
   ]
  },
  {
   "cell_type": "code",
   "execution_count": 32,
   "id": "f81dad29",
   "metadata": {},
   "outputs": [
    {
     "name": "stdout",
     "output_type": "stream",
     "text": [
      "0.9998116051243406\n",
      "0.7745762711864407\n"
     ]
    }
   ],
   "source": [
    "print(accuracy_score(Y_train,pred_train))\n",
    "print(accuracy_score(Y_test,pred_test))"
   ]
  },
  {
   "cell_type": "code",
   "execution_count": 33,
   "id": "f46c7bf9",
   "metadata": {},
   "outputs": [
    {
     "data": {
      "text/plain": [
       "(3014, 19)"
      ]
     },
     "execution_count": 33,
     "metadata": {},
     "output_type": "execute_result"
    }
   ],
   "source": [
    "null=p1.loc[p1['PoliceReport'].isnull()]\n",
    "null.shape"
   ]
  },
  {
   "cell_type": "code",
   "execution_count": 34,
   "id": "ac53ed64",
   "metadata": {},
   "outputs": [],
   "source": [
    "x1=null.drop(['PoliceReport','CustomerID'],axis=1)"
   ]
  },
  {
   "cell_type": "code",
   "execution_count": 35,
   "id": "2a41dead",
   "metadata": {},
   "outputs": [],
   "source": [
    "cat_col=['DateOfIncident', 'TypeOfIncident', 'TypeOfCollission',\n",
    "       'SeverityOfIncident', 'AuthoritiesContacted', 'IncidentState',\n",
    "       'IncidentCity', 'IncidentAddress', 'PropertyDamage', 'Witnesses','AmountOfTotalClaim']\n",
    "from sklearn.preprocessing import LabelEncoder\n",
    "le = LabelEncoder()\n",
    "\n",
    "for col in cat_col:\n",
    "    x1[col]= le.fit_transform(x1[col])"
   ]
  },
  {
   "cell_type": "code",
   "execution_count": 36,
   "id": "ffbbfa25",
   "metadata": {},
   "outputs": [],
   "source": [
    "prediction=classi.predict(x1)"
   ]
  },
  {
   "cell_type": "code",
   "execution_count": 37,
   "id": "4232f27c",
   "metadata": {},
   "outputs": [
    {
     "data": {
      "text/plain": [
       "(8912, 19)"
      ]
     },
     "execution_count": 37,
     "metadata": {},
     "output_type": "execute_result"
    }
   ],
   "source": [
    "null.drop(['PoliceReport'],axis=1,inplace=True)\n",
    "null['PoliceReport']=prediction\n",
    "\n",
    "n_final=pd.concat([not_null,null])\n",
    "n_final.shape"
   ]
  },
  {
   "cell_type": "code",
   "execution_count": 38,
   "id": "38ebf1ce",
   "metadata": {},
   "outputs": [],
   "source": [
    "#Drop old column and add new values to that column\n",
    "df_new.drop(['PoliceReport'],axis=1,inplace=True)\n",
    "df_new['PoliceReport']=n_final['PoliceReport']"
   ]
  },
  {
   "cell_type": "markdown",
   "id": "941901cc",
   "metadata": {},
   "source": [
    "## ii)Missing value treatment for 'TypeOfCollission' column"
   ]
  },
  {
   "cell_type": "code",
   "execution_count": 39,
   "id": "42baee11",
   "metadata": {},
   "outputs": [],
   "source": [
    "#we store rows based on Type of collission column which are not having null values\n",
    "c1=p1.drop(['PoliceReport'],axis=1)\n",
    "c1['PoliceReport']=n_final['PoliceReport']"
   ]
  },
  {
   "cell_type": "code",
   "execution_count": 40,
   "id": "2e7dc7eb",
   "metadata": {},
   "outputs": [],
   "source": [
    "coli=c1.loc[c1['TypeOfCollission'].notnull()]\n",
    "coli_c=coli.copy()"
   ]
  },
  {
   "cell_type": "code",
   "execution_count": 41,
   "id": "9274b5e0",
   "metadata": {},
   "outputs": [],
   "source": [
    "cat_col=['DateOfIncident', 'TypeOfIncident', 'TypeOfCollission',\n",
    "       'SeverityOfIncident', 'AuthoritiesContacted', 'IncidentState',\n",
    "       'IncidentCity', 'IncidentAddress', 'PropertyDamage', 'Witnesses', 'AmountOfTotalClaim']\n",
    "from sklearn.preprocessing import LabelEncoder\n",
    "le = LabelEncoder()\n",
    "\n",
    "for col in cat_col:\n",
    "    coli_c[col]= le.fit_transform(coli_c[col])"
   ]
  },
  {
   "cell_type": "code",
   "execution_count": 42,
   "id": "3e5204f2",
   "metadata": {},
   "outputs": [],
   "source": [
    "#Droping 'TypeOfCollission' column and assign to new valriable\n",
    "coli=coli.drop(['TypeOfCollission'],axis=1)\n",
    "coli['TypeOfCollission']=coli_c['TypeOfCollission']"
   ]
  },
  {
   "cell_type": "code",
   "execution_count": 43,
   "id": "7a9acbfc",
   "metadata": {},
   "outputs": [],
   "source": [
    "from sklearn.linear_model import LogisticRegression\n",
    "from sklearn.model_selection import train_test_split\n",
    "from sklearn.metrics import accuracy_score"
   ]
  },
  {
   "cell_type": "code",
   "execution_count": 44,
   "id": "62319c17",
   "metadata": {},
   "outputs": [],
   "source": [
    "x=coli_c.drop(['TypeOfCollission','CustomerID'],axis=1)\n",
    "y=coli_c['TypeOfCollission']"
   ]
  },
  {
   "cell_type": "code",
   "execution_count": 45,
   "id": "5cf185ed",
   "metadata": {},
   "outputs": [],
   "source": [
    "X_train,X_test,Y_train,Y_test=train_test_split(x,y,test_size=0.1,random_state=0)"
   ]
  },
  {
   "cell_type": "code",
   "execution_count": 46,
   "id": "2a4dfb03",
   "metadata": {},
   "outputs": [],
   "source": [
    "logi1=LogisticRegression(max_iter=1000)\n",
    "logi1.fit(X_train,Y_train)\n",
    "pred_train=logi.predict(X_train)\n",
    "pred_test=logi.predict(X_test)"
   ]
  },
  {
   "cell_type": "code",
   "execution_count": 47,
   "id": "398173c6",
   "metadata": {},
   "outputs": [
    {
     "name": "stdout",
     "output_type": "stream",
     "text": [
      "0.3030774013055642\n",
      "0.3090909090909091\n"
     ]
    }
   ],
   "source": [
    "print(accuracy_score(Y_train,pred_train))\n",
    "print(accuracy_score(Y_test,pred_test))"
   ]
  },
  {
   "cell_type": "code",
   "execution_count": 48,
   "id": "4cdc2407",
   "metadata": {},
   "outputs": [],
   "source": [
    "clf1=DecisionTreeClassifier(criterion='gini')\n",
    "clf1.fit(X_train,Y_train)\n",
    "pred_train=clf1.predict(X_train)\n",
    "pred_test=clf1.predict(X_test)"
   ]
  },
  {
   "cell_type": "code",
   "execution_count": 49,
   "id": "db1950ed",
   "metadata": {},
   "outputs": [
    {
     "name": "stdout",
     "output_type": "stream",
     "text": [
      "1.0\n",
      "0.5300699300699301\n"
     ]
    }
   ],
   "source": [
    "print(accuracy_score(Y_train,pred_train))\n",
    "print(accuracy_score(Y_test,pred_test))"
   ]
  },
  {
   "cell_type": "code",
   "execution_count": 50,
   "id": "05290405",
   "metadata": {},
   "outputs": [],
   "source": [
    "classifier=RandomForestClassifier(n_estimators=30,criterion='entropy')\n",
    "classifier.fit(X_train,Y_train)\n",
    "pred_train=classifier.predict(X_train)\n",
    "pred_test=classifier.predict(X_test)"
   ]
  },
  {
   "cell_type": "code",
   "execution_count": 51,
   "id": "f0eb3ce6",
   "metadata": {},
   "outputs": [
    {
     "name": "stdout",
     "output_type": "stream",
     "text": [
      "0.9993783027665527\n",
      "0.6559440559440559\n"
     ]
    }
   ],
   "source": [
    "print(accuracy_score(Y_train,pred_train))\n",
    "print(accuracy_score(Y_test,pred_test))"
   ]
  },
  {
   "cell_type": "code",
   "execution_count": 52,
   "id": "e4224a15",
   "metadata": {},
   "outputs": [],
   "source": [
    "co=c1.loc[c1['TypeOfCollission'].isnull()]\n",
    "co2=co.drop(['TypeOfCollission','CustomerID'],axis=1)"
   ]
  },
  {
   "cell_type": "code",
   "execution_count": 53,
   "id": "b6594e64",
   "metadata": {},
   "outputs": [],
   "source": [
    "cat_col=['DateOfIncident', 'TypeOfIncident','SeverityOfIncident', 'AuthoritiesContacted', 'IncidentState',\n",
    "       'IncidentCity', 'IncidentAddress', 'PropertyDamage', 'Witnesses','AmountOfTotalClaim']\n",
    "from sklearn.preprocessing import LabelEncoder\n",
    "le = LabelEncoder()\n",
    "\n",
    "for col in cat_col:\n",
    "    co2[col]= le.fit_transform(co2[col])\n"
   ]
  },
  {
   "cell_type": "code",
   "execution_count": 54,
   "id": "6311f610",
   "metadata": {},
   "outputs": [],
   "source": [
    "prediction1=classifier.predict(co2)\n",
    "co.drop(['TypeOfCollission'],axis=1,inplace=True)\n",
    "co['TypeOfCollission']=prediction1"
   ]
  },
  {
   "cell_type": "code",
   "execution_count": 55,
   "id": "2f3c12fb",
   "metadata": {},
   "outputs": [
    {
     "data": {
      "text/plain": [
       "(8912, 19)"
      ]
     },
     "execution_count": 55,
     "metadata": {},
     "output_type": "execute_result"
    }
   ],
   "source": [
    "n_final1=pd.concat([coli,co])\n",
    "n_final1.shape"
   ]
  },
  {
   "cell_type": "code",
   "execution_count": 56,
   "id": "99012a97",
   "metadata": {},
   "outputs": [],
   "source": [
    "#Drop old column and add new values to that column\n",
    "df_new.drop(['TypeOfCollission'],axis=1,inplace=True)\n",
    "df_new['TypeOfCollission']=n_final1['TypeOfCollission']"
   ]
  },
  {
   "cell_type": "markdown",
   "id": "feb74cde",
   "metadata": {},
   "source": [
    "## iii) Missing value treatment for 'PropertyDamage'"
   ]
  },
  {
   "cell_type": "code",
   "execution_count": 57,
   "id": "6b6ff641",
   "metadata": {},
   "outputs": [],
   "source": [
    "#we store rows based on policereport column which are not having null values\n",
    "pr1=p1.drop(['PoliceReport','TypeOfCollission'],axis=1)\n",
    "pr1['PoliceReport']=n_final['PoliceReport']\n",
    "pr1['TypeOfCollission']=n_final1['TypeOfCollission']"
   ]
  },
  {
   "cell_type": "code",
   "execution_count": 58,
   "id": "86c7d375",
   "metadata": {},
   "outputs": [],
   "source": [
    "pr=pr1.loc[pr1['PropertyDamage'].notnull()]\n",
    "pr.shape\n",
    "pro=pr.copy()"
   ]
  },
  {
   "cell_type": "code",
   "execution_count": 59,
   "id": "ceccd39a",
   "metadata": {},
   "outputs": [],
   "source": [
    "cat_col=['DateOfIncident', 'TypeOfIncident',\n",
    "       'SeverityOfIncident', 'AuthoritiesContacted', 'IncidentState',\n",
    "       'IncidentCity', 'IncidentAddress', 'PropertyDamage', 'Witnesses', 'AmountOfTotalClaim']\n",
    "from sklearn.preprocessing import LabelEncoder\n",
    "le = LabelEncoder()\n",
    "\n",
    "for col in cat_col:\n",
    "    pro[col]= le.fit_transform(pro[col])"
   ]
  },
  {
   "cell_type": "code",
   "execution_count": 60,
   "id": "28703e9d",
   "metadata": {},
   "outputs": [],
   "source": [
    "#Droping 'TypeOfCollission' column and assign to new valriable\n",
    "pr=pr.drop(['PropertyDamage'],axis=1)\n",
    "pr['PropertyDamage']=pro['PropertyDamage']"
   ]
  },
  {
   "cell_type": "code",
   "execution_count": 61,
   "id": "0694934d",
   "metadata": {},
   "outputs": [],
   "source": [
    "x=pro.drop(['PropertyDamage','CustomerID'],axis=1)\n",
    "y=pro['PropertyDamage']"
   ]
  },
  {
   "cell_type": "code",
   "execution_count": 62,
   "id": "4882d4b5",
   "metadata": {},
   "outputs": [],
   "source": [
    "X_train,X_test,Y_train,Y_test=train_test_split(x,y,test_size=0.1,random_state=0)"
   ]
  },
  {
   "cell_type": "code",
   "execution_count": 63,
   "id": "9c8247e4",
   "metadata": {},
   "outputs": [],
   "source": [
    "logi2=LogisticRegression()\n",
    "logi2.fit(X_train,Y_train)\n",
    "pred_train=logi2.predict(X_train)\n",
    "pred_test=logi2.predict(X_test)"
   ]
  },
  {
   "cell_type": "code",
   "execution_count": 64,
   "id": "e2462c4c",
   "metadata": {},
   "outputs": [
    {
     "name": "stdout",
     "output_type": "stream",
     "text": [
      "0.5209103287298191\n",
      "0.506993006993007\n"
     ]
    }
   ],
   "source": [
    "print(accuracy_score(Y_train,pred_train))\n",
    "print(accuracy_score(Y_test,pred_test))"
   ]
  },
  {
   "cell_type": "code",
   "execution_count": 65,
   "id": "f10c75c0",
   "metadata": {},
   "outputs": [],
   "source": [
    "clf2=DecisionTreeClassifier(criterion='gini')\n",
    "clf2.fit(X_train,Y_train)\n",
    "pred_train=clf2.predict(X_train)\n",
    "pred_test=clf2.predict(X_test)"
   ]
  },
  {
   "cell_type": "code",
   "execution_count": 66,
   "id": "41b09b18",
   "metadata": {},
   "outputs": [
    {
     "name": "stdout",
     "output_type": "stream",
     "text": [
      "1.0\n",
      "0.7185314685314685\n"
     ]
    }
   ],
   "source": [
    "print(accuracy_score(Y_train,pred_train))\n",
    "print(accuracy_score(Y_test,pred_test))"
   ]
  },
  {
   "cell_type": "code",
   "execution_count": 67,
   "id": "8c16f3e2",
   "metadata": {},
   "outputs": [],
   "source": [
    "classifier1=RandomForestClassifier(n_estimators=40,criterion='entropy')\n",
    "classifier1.fit(X_train,Y_train)\n",
    "pred_train=classifier1.predict(X_train)\n",
    "pred_test=classifier1.predict(X_test)"
   ]
  },
  {
   "cell_type": "code",
   "execution_count": 68,
   "id": "4c21f913",
   "metadata": {},
   "outputs": [
    {
     "name": "stdout",
     "output_type": "stream",
     "text": [
      "1.0\n",
      "0.8146853146853147\n"
     ]
    }
   ],
   "source": [
    "print(accuracy_score(Y_train,pred_train))\n",
    "print(accuracy_score(Y_test,pred_test))"
   ]
  },
  {
   "cell_type": "code",
   "execution_count": 69,
   "id": "f212bc8c",
   "metadata": {},
   "outputs": [],
   "source": [
    "prnull=pr1.loc[pr1['PropertyDamage'].isnull()]\n",
    "prnull.shape\n",
    "prn1=prnull.drop(['PropertyDamage','CustomerID'],axis=1)"
   ]
  },
  {
   "cell_type": "code",
   "execution_count": 70,
   "id": "4617b3e6",
   "metadata": {},
   "outputs": [],
   "source": [
    "cat_col=['DateOfIncident', 'TypeOfIncident','SeverityOfIncident', 'AuthoritiesContacted', 'IncidentState',\n",
    "       'IncidentCity', 'IncidentAddress', 'Witnesses','AmountOfTotalClaim']\n",
    "from sklearn.preprocessing import LabelEncoder\n",
    "le = LabelEncoder()\n",
    "\n",
    "for col in cat_col:\n",
    "    prn1[col]= le.fit_transform(prn1[col])"
   ]
  },
  {
   "cell_type": "code",
   "execution_count": 71,
   "id": "4c0818ac",
   "metadata": {},
   "outputs": [],
   "source": [
    "prediction2=classifier1.predict(prn1)"
   ]
  },
  {
   "cell_type": "code",
   "execution_count": 72,
   "id": "730aaa82",
   "metadata": {},
   "outputs": [],
   "source": [
    "prnull.drop(['PropertyDamage'],axis=1,inplace=True)\n",
    "prnull['PropertyDamage']=prediction2"
   ]
  },
  {
   "cell_type": "code",
   "execution_count": 73,
   "id": "85909a0a",
   "metadata": {},
   "outputs": [],
   "source": [
    "n_final2=pd.concat([pr,prnull])"
   ]
  },
  {
   "cell_type": "code",
   "execution_count": 74,
   "id": "605bf232",
   "metadata": {},
   "outputs": [
    {
     "data": {
      "text/plain": [
       "(8912, 41)"
      ]
     },
     "execution_count": 74,
     "metadata": {},
     "output_type": "execute_result"
    }
   ],
   "source": [
    "#Drop old column and add new values to that column\n",
    "df_new.drop(['PropertyDamage'],axis=1,inplace=True)\n",
    "df_new['PropertyDamage']=n_final2['PropertyDamage']\n",
    "df_new.shape"
   ]
  },
  {
   "cell_type": "code",
   "execution_count": 75,
   "id": "d883d280",
   "metadata": {},
   "outputs": [
    {
     "data": {
      "text/plain": [
       "CustomerID                     0\n",
       "DateOfIncident                 0\n",
       "TypeOfIncident                 0\n",
       "SeverityOfIncident             0\n",
       "AuthoritiesContacted           0\n",
       "IncidentState                  0\n",
       "IncidentCity                   0\n",
       "IncidentAddress                0\n",
       "IncidentTime                   7\n",
       "NumberOfVehicles               0\n",
       "BodilyInjuries                 0\n",
       "Witnesses                     12\n",
       "AmountOfTotalClaim             8\n",
       "AmountOfInjuryClaim            0\n",
       "AmountOfPropertyClaim          0\n",
       "AmountOfVehicleDamage          0\n",
       "InsuredAge                     0\n",
       "InsuredZipCode                 0\n",
       "InsuredGender                  8\n",
       "InsuredEducationLevel          0\n",
       "InsuredOccupation              0\n",
       "InsuredHobbies                 0\n",
       "CapitalGains                   0\n",
       "CapitalLoss                    0\n",
       "Country                        4\n",
       "InsurancePolicyNumber          0\n",
       "CustomerLoyaltyPeriod          0\n",
       "DateOfPolicyCoverage           0\n",
       "InsurancePolicyState           0\n",
       "Policy_CombinedSingleLimit     0\n",
       "Policy_Deductible              0\n",
       "PolicyAnnualPremium           47\n",
       "UmbrellaLimit                  0\n",
       "InsuredRelationship            0\n",
       "VehicleID                      0\n",
       "VehicleModel                   0\n",
       "VehicleMake                    8\n",
       "VehicleYOM                     0\n",
       "PoliceReport                   0\n",
       "TypeOfCollission               0\n",
       "PropertyDamage                 0\n",
       "dtype: int64"
      ]
     },
     "execution_count": 75,
     "metadata": {},
     "output_type": "execute_result"
    }
   ],
   "source": [
    "df_new.isnull().sum()"
   ]
  },
  {
   "cell_type": "code",
   "execution_count": 76,
   "id": "a7f13b15",
   "metadata": {},
   "outputs": [],
   "source": [
    "df_new['PolicyAnnualPremium'].fillna(df_new['PolicyAnnualPremium'].median(),inplace=True)\n",
    "\n",
    "df_new['InsuredGender'].fillna(df_new['InsuredGender'].mode()[0],inplace=True)\n",
    "\n",
    "df_new['Witnesses'].fillna(df_new['Witnesses'].mode()[0],inplace=True)\n",
    "\n",
    "df_new['VehicleMake'].fillna(df_new['VehicleMake'].mode()[0],inplace=True)\n",
    "\n",
    "#Changing AmountOfTotalClaim datatype into int\n",
    "df_new['AmountOfTotalClaim']=df_new['AmountOfTotalClaim'].fillna(-2)\n",
    "\n",
    "df_new['AmountOfTotalClaim'] = df_new['AmountOfTotalClaim'].astype('int64')\n",
    "\n",
    "df_new['AmountOfTotalClaim'].replace(-2,df_new['AmountOfTotalClaim'].median(),inplace=True)\n",
    "\n",
    "df_new['IncidentTime'].fillna(df_new['IncidentTime'].median(),inplace=True)\n",
    "\n",
    "df_new['Country'].fillna(df_new['Country'].mode(),inplace=True)\n"
   ]
  },
  {
   "cell_type": "markdown",
   "id": "4e9e3520",
   "metadata": {},
   "source": [
    "## Dropping columns "
   ]
  },
  {
   "cell_type": "code",
   "execution_count": 77,
   "id": "2ab73bf2",
   "metadata": {},
   "outputs": [
    {
     "data": {
      "text/plain": [
       "(8912, 30)"
      ]
     },
     "execution_count": 77,
     "metadata": {},
     "output_type": "execute_result"
    }
   ],
   "source": [
    "df_new1=df_new.drop(['IncidentState','VehicleID','IncidentAddress','IncidentCity','InsuredZipCode','Country',\n",
    "            'InsurancePolicyNumber','DateOfIncident','InsuredRelationship','InsurancePolicyState',\n",
    "                    'DateOfPolicyCoverage'],axis=1)\n",
    "\n",
    "df_new1.shape"
   ]
  },
  {
   "cell_type": "code",
   "execution_count": 78,
   "id": "eb27961d",
   "metadata": {
    "scrolled": true
   },
   "outputs": [
    {
     "data": {
      "text/plain": [
       "CustomerID                    0\n",
       "TypeOfIncident                0\n",
       "SeverityOfIncident            0\n",
       "AuthoritiesContacted          0\n",
       "IncidentTime                  0\n",
       "NumberOfVehicles              0\n",
       "BodilyInjuries                0\n",
       "Witnesses                     0\n",
       "AmountOfTotalClaim            0\n",
       "AmountOfInjuryClaim           0\n",
       "AmountOfPropertyClaim         0\n",
       "AmountOfVehicleDamage         0\n",
       "InsuredAge                    0\n",
       "InsuredGender                 0\n",
       "InsuredEducationLevel         0\n",
       "InsuredOccupation             0\n",
       "InsuredHobbies                0\n",
       "CapitalGains                  0\n",
       "CapitalLoss                   0\n",
       "CustomerLoyaltyPeriod         0\n",
       "Policy_CombinedSingleLimit    0\n",
       "Policy_Deductible             0\n",
       "PolicyAnnualPremium           0\n",
       "UmbrellaLimit                 0\n",
       "VehicleModel                  0\n",
       "VehicleMake                   0\n",
       "VehicleYOM                    0\n",
       "PoliceReport                  0\n",
       "TypeOfCollission              0\n",
       "PropertyDamage                0\n",
       "dtype: int64"
      ]
     },
     "execution_count": 78,
     "metadata": {},
     "output_type": "execute_result"
    }
   ],
   "source": [
    "df_new1.isnull().sum()"
   ]
  },
  {
   "cell_type": "markdown",
   "id": "4a093732",
   "metadata": {},
   "source": [
    "# Converting categorical to numerical"
   ]
  },
  {
   "cell_type": "code",
   "execution_count": 79,
   "id": "2d13ada1",
   "metadata": {},
   "outputs": [],
   "source": [
    "df_new1['Witnesses']=df_new1['Witnesses'].astype('int')"
   ]
  },
  {
   "cell_type": "code",
   "execution_count": 80,
   "id": "ff079894",
   "metadata": {},
   "outputs": [
    {
     "data": {
      "text/plain": [
       "Index(['CustomerID', 'TypeOfIncident', 'SeverityOfIncident',\n",
       "       'AuthoritiesContacted', 'InsuredGender', 'InsuredEducationLevel',\n",
       "       'InsuredOccupation', 'InsuredHobbies', 'Policy_CombinedSingleLimit',\n",
       "       'VehicleModel', 'VehicleMake', 'VehicleYOM'],\n",
       "      dtype='object')"
      ]
     },
     "execution_count": 80,
     "metadata": {},
     "output_type": "execute_result"
    }
   ],
   "source": [
    "ob1=df_new1.select_dtypes(include=['object'])\n",
    "ob1.columns"
   ]
  },
  {
   "cell_type": "code",
   "execution_count": 81,
   "id": "714538f2",
   "metadata": {},
   "outputs": [],
   "source": [
    "cat_col=['TypeOfIncident', 'SeverityOfIncident',\n",
    "       'AuthoritiesContacted', 'InsuredGender',\n",
    "       'InsuredEducationLevel', 'InsuredOccupation','InsuredHobbies',\n",
    "        'Policy_CombinedSingleLimit', 'VehicleModel', 'VehicleMake',\n",
    "       'VehicleYOM']\n",
    "from sklearn.preprocessing import LabelEncoder\n",
    "le = LabelEncoder()\n",
    "\n",
    "for col in cat_col:\n",
    "    df_new1[col]= le.fit_transform(df_new1[col])"
   ]
  },
  {
   "cell_type": "code",
   "execution_count": 82,
   "id": "02c16f8c",
   "metadata": {},
   "outputs": [
    {
     "data": {
      "text/plain": [
       "(8912, 30)"
      ]
     },
     "execution_count": 82,
     "metadata": {},
     "output_type": "execute_result"
    }
   ],
   "source": [
    "df_new1.shape"
   ]
  },
  {
   "cell_type": "code",
   "execution_count": 83,
   "id": "b19b78ec",
   "metadata": {},
   "outputs": [],
   "source": [
    "df_new1.to_csv('cleanedtes7.csv',index=False)"
   ]
  },
  {
   "cell_type": "code",
   "execution_count": 84,
   "id": "b1d76186",
   "metadata": {},
   "outputs": [
    {
     "data": {
      "text/plain": [
       "(8912, 30)"
      ]
     },
     "execution_count": 84,
     "metadata": {},
     "output_type": "execute_result"
    }
   ],
   "source": [
    "df_new1.shape"
   ]
  },
  {
   "cell_type": "code",
   "execution_count": null,
   "id": "afe17950",
   "metadata": {},
   "outputs": [],
   "source": []
  },
  {
   "cell_type": "code",
   "execution_count": null,
   "id": "58f633ff",
   "metadata": {},
   "outputs": [],
   "source": []
  }
 ],
 "metadata": {
  "kernelspec": {
   "display_name": "Python 3 (ipykernel)",
   "language": "python",
   "name": "python3"
  },
  "language_info": {
   "codemirror_mode": {
    "name": "ipython",
    "version": 3
   },
   "file_extension": ".py",
   "mimetype": "text/x-python",
   "name": "python",
   "nbconvert_exporter": "python",
   "pygments_lexer": "ipython3",
   "version": "3.9.13"
  }
 },
 "nbformat": 4,
 "nbformat_minor": 5
}
